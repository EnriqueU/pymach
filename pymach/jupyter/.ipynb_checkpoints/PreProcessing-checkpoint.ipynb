{
 "cells": [
  {
   "cell_type": "code",
   "execution_count": 1,
   "metadata": {
    "collapsed": true
   },
   "outputs": [],
   "source": [
    "from sklearn.model_selection import KFold\n",
    "from sklearn.neural_network import MLPRegressor\n",
    "from sklearn.neighbors import KNeighborsRegressor\n",
    "\n",
    "mlp = MLPRegressor(max_iter=1000)\n",
    "knn =  KNeighborsRegressor(n_neighbors=5, n_jobs=-1)\n",
    "kfold = KFold(n_splits=10, random_state=7)"
   ]
  },
  {
   "cell_type": "code",
   "execution_count": 2,
   "metadata": {},
   "outputs": [
    {
     "name": "stdout",
     "output_type": "stream",
     "text": [
      "<class 'pandas.core.frame.DataFrame'>\n"
     ]
    }
   ],
   "source": [
    "import pandas as pd\n",
    "data = pd.read_csv(\"weatherHistoryRegression.csv\")\n",
    "data.head()\n",
    "print(type(data))\n",
    "X = data[data.columns[0:5]]\n",
    "y = data[data.columns[5]]"
   ]
  },
  {
   "cell_type": "code",
   "execution_count": 22,
   "metadata": {},
   "outputs": [
    {
     "data": {
      "text/html": [
       "<div>\n",
       "<style>\n",
       "    .dataframe thead tr:only-child th {\n",
       "        text-align: right;\n",
       "    }\n",
       "\n",
       "    .dataframe thead th {\n",
       "        text-align: left;\n",
       "    }\n",
       "\n",
       "    .dataframe tbody tr th {\n",
       "        vertical-align: top;\n",
       "    }\n",
       "</style>\n",
       "<table border=\"1\" class=\"dataframe\">\n",
       "  <thead>\n",
       "    <tr style=\"text-align: right;\">\n",
       "      <th></th>\n",
       "      <th>Humidity</th>\n",
       "      <th>Wind Speed (km/h)</th>\n",
       "      <th>Wind Bearing (degrees)</th>\n",
       "      <th>Visibility (km)</th>\n",
       "      <th>Pressure (millibars)</th>\n",
       "    </tr>\n",
       "  </thead>\n",
       "  <tbody>\n",
       "    <tr>\n",
       "      <th>132</th>\n",
       "      <td>0.58</td>\n",
       "      <td>23.5865</td>\n",
       "      <td>222</td>\n",
       "      <td>11.2700</td>\n",
       "      <td>1014.47</td>\n",
       "    </tr>\n",
       "    <tr>\n",
       "      <th>43</th>\n",
       "      <td>0.50</td>\n",
       "      <td>20.0445</td>\n",
       "      <td>150</td>\n",
       "      <td>11.2056</td>\n",
       "      <td>1008.36</td>\n",
       "    </tr>\n",
       "    <tr>\n",
       "      <th>179</th>\n",
       "      <td>0.53</td>\n",
       "      <td>27.3700</td>\n",
       "      <td>230</td>\n",
       "      <td>11.4471</td>\n",
       "      <td>1011.71</td>\n",
       "    </tr>\n",
       "    <tr>\n",
       "      <th>99</th>\n",
       "      <td>0.76</td>\n",
       "      <td>14.4739</td>\n",
       "      <td>273</td>\n",
       "      <td>15.8263</td>\n",
       "      <td>1007.28</td>\n",
       "    </tr>\n",
       "    <tr>\n",
       "      <th>163</th>\n",
       "      <td>0.63</td>\n",
       "      <td>9.1609</td>\n",
       "      <td>160</td>\n",
       "      <td>9.9820</td>\n",
       "      <td>1017.56</td>\n",
       "    </tr>\n",
       "  </tbody>\n",
       "</table>\n",
       "</div>"
      ],
      "text/plain": [
       "     Humidity  Wind Speed (km/h)  Wind Bearing (degrees)  Visibility (km)  \\\n",
       "132      0.58            23.5865                     222          11.2700   \n",
       "43       0.50            20.0445                     150          11.2056   \n",
       "179      0.53            27.3700                     230          11.4471   \n",
       "99       0.76            14.4739                     273          15.8263   \n",
       "163      0.63             9.1609                     160           9.9820   \n",
       "\n",
       "     Pressure (millibars)  \n",
       "132               1014.47  \n",
       "43                1008.36  \n",
       "179               1011.71  \n",
       "99                1007.28  \n",
       "163               1017.56  "
      ]
     },
     "execution_count": 22,
     "metadata": {},
     "output_type": "execute_result"
    }
   ],
   "source": [
    "from sklearn.model_selection import train_test_split\n",
    "X_train, X_test, y_train, y_test = train_test_split(X, y)\n",
    "X_train.head()"
   ]
  },
  {
   "cell_type": "code",
   "execution_count": 14,
   "metadata": {
    "scrolled": false
   },
   "outputs": [
    {
     "data": {
      "text/plain": [
       "array([[ 0.32      ,  2.19309123,  1.07865169,  0.13296399, -1.91600791],\n",
       "       [-1.36      ,  0.25332152, -0.16693419,  0.        ,  0.79940711],\n",
       "       [-0.04      , -0.11691763,  0.00642055, -0.25484765, -0.6986166 ],\n",
       "       ..., \n",
       "       [ 0.12      , -0.19309123, -0.05136437,  3.76731302,  0.29150198],\n",
       "       [-1.64      , -0.37909655, -0.4494382 ,  0.        , -0.10573123],\n",
       "       [-0.36      ,  0.09565988, -0.21187801, -0.25484765,  0.68280632]])"
      ]
     },
     "execution_count": 14,
     "metadata": {},
     "output_type": "execute_result"
    }
   ],
   "source": [
    "from sklearn.preprocessing import StandardScaler, RobustScaler\n",
    "robust_scaler = RobustScaler()\n",
    "rs = robust_scaler.fit_transform(X_train)\n",
    "rs"
   ]
  },
  {
   "cell_type": "code",
   "execution_count": 15,
   "metadata": {},
   "outputs": [
    {
     "data": {
      "text/plain": [
       "array([[-0.08462161,  2.97785662, -0.83596826],\n",
       "       [-0.07140712, -0.60040452,  2.13287747],\n",
       "       [ 0.07450231,  0.27987078, -0.22948445],\n",
       "       ..., \n",
       "       [-1.45518509, -0.68664665, -0.73694136],\n",
       "       [-0.08008051, -0.38115611,  2.12308219],\n",
       "       [ 0.06254259, -0.65419509,  0.81426422]])"
      ]
     },
     "execution_count": 15,
     "metadata": {},
     "output_type": "execute_result"
    }
   ],
   "source": [
    "from sklearn.decomposition import PCA\n",
    "pca = PCA(n_components=3, svd_solver='randomized', whiten=True)\n",
    "pa = pca.fit_transform(rs)\n",
    "pa"
   ]
  },
  {
   "cell_type": "code",
   "execution_count": 16,
   "metadata": {},
   "outputs": [
    {
     "data": {
      "text/plain": [
       "array([[-0.08462161,  2.97785662, -0.83596826],\n",
       "       [-0.07140712, -0.60040452,  2.13287747],\n",
       "       [ 0.07450231,  0.27987078, -0.22948445],\n",
       "       ..., \n",
       "       [-1.45518509, -0.68664665, -0.73694136],\n",
       "       [-0.08008051, -0.38115611,  2.12308219],\n",
       "       [ 0.06254259, -0.65419509,  0.81426422]])"
      ]
     },
     "execution_count": 16,
     "metadata": {},
     "output_type": "execute_result"
    }
   ],
   "source": [
    "from sklearn.feature_selection import SelectKBest\n",
    "from sklearn.feature_selection import f_regression\n",
    "kbest = SelectKBest(score_func=f_regression, k=3)\n",
    "k = kbest.fit_transform(pa,y_train)\n",
    "k"
   ]
  },
  {
   "cell_type": "code",
   "execution_count": 20,
   "metadata": {},
   "outputs": [],
   "source": [
    "from sklearn.model_selection import cross_val_score\n",
    "m = cross_val_score(knn, k, y_train, cv=kfold, scoring='neg_mean_squared_error')"
   ]
  },
  {
   "cell_type": "code",
   "execution_count": 21,
   "metadata": {},
   "outputs": [
    {
     "data": {
      "text/plain": [
       "-6.6935497113819853"
      ]
     },
     "execution_count": 21,
     "metadata": {},
     "output_type": "execute_result"
    }
   ],
   "source": [
    "m.mean()"
   ]
  },
  {
   "cell_type": "code",
   "execution_count": null,
   "metadata": {
    "collapsed": true
   },
   "outputs": [],
   "source": []
  }
 ],
 "metadata": {
  "kernelspec": {
   "display_name": "Python 3",
   "language": "python",
   "name": "python3"
  },
  "language_info": {
   "codemirror_mode": {
    "name": "ipython",
    "version": 3
   },
   "file_extension": ".py",
   "mimetype": "text/x-python",
   "name": "python",
   "nbconvert_exporter": "python",
   "pygments_lexer": "ipython3",
   "version": "3.6.3"
  }
 },
 "nbformat": 4,
 "nbformat_minor": 2
}
