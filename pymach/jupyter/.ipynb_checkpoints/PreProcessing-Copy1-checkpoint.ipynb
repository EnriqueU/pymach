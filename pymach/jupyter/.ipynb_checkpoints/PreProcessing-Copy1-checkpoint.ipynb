{
 "cells": [
  {
   "cell_type": "code",
   "execution_count": 27,
   "metadata": {
    "collapsed": true
   },
   "outputs": [],
   "source": [
    "from sklearn.model_selection import KFold\n",
    "from sklearn.neural_network import MLPRegressor\n",
    "from sklearn.neighbors import KNeighborsRegressor\n",
    "\n",
    "mlp = MLPRegressor(max_iter=1000)\n",
    "knn =  KNeighborsRegressor(n_neighbors=5, n_jobs=-1)\n",
    "kfold = KFold(n_splits=10, random_state=7)"
   ]
  },
  {
   "cell_type": "code",
   "execution_count": 28,
   "metadata": {},
   "outputs": [
    {
     "name": "stdout",
     "output_type": "stream",
     "text": [
      "<class 'pandas.core.frame.DataFrame'>\n"
     ]
    }
   ],
   "source": [
    "import pandas as pd\n",
    "data = pd.read_csv(\"titanic_data.csv\")\n",
    "data.head()\n",
    "print(type(data))\n",
    "X = data[data.columns[0:3]]\n",
    "y = data[data.columns[3]]"
   ]
  },
  {
   "cell_type": "code",
   "execution_count": 29,
   "metadata": {},
   "outputs": [
    {
     "data": {
      "text/html": [
       "<div>\n",
       "<style>\n",
       "    .dataframe thead tr:only-child th {\n",
       "        text-align: right;\n",
       "    }\n",
       "\n",
       "    .dataframe thead th {\n",
       "        text-align: left;\n",
       "    }\n",
       "\n",
       "    .dataframe tbody tr th {\n",
       "        vertical-align: top;\n",
       "    }\n",
       "</style>\n",
       "<table border=\"1\" class=\"dataframe\">\n",
       "  <thead>\n",
       "    <tr style=\"text-align: right;\">\n",
       "      <th></th>\n",
       "      <th>Humidity</th>\n",
       "      <th>Wind Speed (km/h)</th>\n",
       "      <th>Wind Bearing (degrees)</th>\n",
       "      <th>Visibility (km)</th>\n",
       "      <th>Pressure (millibars)</th>\n",
       "    </tr>\n",
       "  </thead>\n",
       "  <tbody>\n",
       "    <tr>\n",
       "      <th>391</th>\n",
       "      <td>0.99</td>\n",
       "      <td>1.6100</td>\n",
       "      <td>210</td>\n",
       "      <td>4.1216</td>\n",
       "      <td>1018.62</td>\n",
       "    </tr>\n",
       "    <tr>\n",
       "      <th>245</th>\n",
       "      <td>0.86</td>\n",
       "      <td>13.8943</td>\n",
       "      <td>12</td>\n",
       "      <td>14.1680</td>\n",
       "      <td>1009.83</td>\n",
       "    </tr>\n",
       "    <tr>\n",
       "      <th>105</th>\n",
       "      <td>0.71</td>\n",
       "      <td>20.5114</td>\n",
       "      <td>319</td>\n",
       "      <td>9.9820</td>\n",
       "      <td>1008.87</td>\n",
       "    </tr>\n",
       "    <tr>\n",
       "      <th>226</th>\n",
       "      <td>0.77</td>\n",
       "      <td>7.3738</td>\n",
       "      <td>332</td>\n",
       "      <td>9.9015</td>\n",
       "      <td>1013.33</td>\n",
       "    </tr>\n",
       "    <tr>\n",
       "      <th>239</th>\n",
       "      <td>0.75</td>\n",
       "      <td>6.3756</td>\n",
       "      <td>47</td>\n",
       "      <td>14.9569</td>\n",
       "      <td>1012.09</td>\n",
       "    </tr>\n",
       "  </tbody>\n",
       "</table>\n",
       "</div>"
      ],
      "text/plain": [
       "     Humidity  Wind Speed (km/h)  Wind Bearing (degrees)  Visibility (km)  \\\n",
       "391      0.99             1.6100                     210           4.1216   \n",
       "245      0.86            13.8943                      12          14.1680   \n",
       "105      0.71            20.5114                     319           9.9820   \n",
       "226      0.77             7.3738                     332           9.9015   \n",
       "239      0.75             6.3756                      47          14.9569   \n",
       "\n",
       "     Pressure (millibars)  \n",
       "391               1018.62  \n",
       "245               1009.83  \n",
       "105               1008.87  \n",
       "226               1013.33  \n",
       "239               1012.09  "
      ]
     },
     "execution_count": 29,
     "metadata": {},
     "output_type": "execute_result"
    }
   ],
   "source": [
    "from sklearn.model_selection import train_test_split\n",
    "X_train, X_test, y_train, y_test = train_test_split(X, y)\n",
    "X_train.head()"
   ]
  },
  {
   "cell_type": "code",
   "execution_count": 30,
   "metadata": {
    "scrolled": false
   },
   "outputs": [
    {
     "data": {
      "text/plain": [
       "array([[ 0.86792453, -0.84055382,  0.27096774, -4.71428571,  0.94425259],\n",
       "       [ 0.37735849,  0.52255471, -1.00645161,  2.14285714, -0.79033054],\n",
       "       [-0.18867925,  1.25681108,  0.97419355, -0.71428571, -0.97977306],\n",
       "       ..., \n",
       "       [ 0.41509434,  0.06342117,  0.46451613, -0.24175824,  0.17069561],\n",
       "       [-0.52830189, -0.01339884,  1.18709677,  0.16483516,  0.40749877],\n",
       "       [ 0.60377358, -0.32782492, -0.83870968,  2.89010989, -0.16872225]])"
      ]
     },
     "execution_count": 30,
     "metadata": {},
     "output_type": "execute_result"
    }
   ],
   "source": [
    "from sklearn.preprocessing import StandardScaler, RobustScaler\n",
    "robust_scaler = RobustScaler()\n",
    "rs = robust_scaler.fit_transform(X_train)\n",
    "rs"
   ]
  },
  {
   "cell_type": "code",
   "execution_count": 31,
   "metadata": {},
   "outputs": [
    {
     "data": {
      "text/plain": [
       "array([[ 1.7585454 , -1.33012851,  0.36548803],\n",
       "       [-0.98641895,  0.65205984, -1.24207521],\n",
       "       [ 0.13616693,  1.60528851,  0.94342211],\n",
       "       ..., \n",
       "       [-0.017123  , -0.20483802,  0.7498679 ],\n",
       "       [-0.1908321 , -0.36062462,  1.3880525 ],\n",
       "       [-1.25424421, -0.43581884, -0.71291518]])"
      ]
     },
     "execution_count": 31,
     "metadata": {},
     "output_type": "execute_result"
    }
   ],
   "source": [
    "from sklearn.decomposition import PCA\n",
    "pca = PCA(n_components=3, svd_solver='randomized', whiten=True)\n",
    "pa = pca.fit_transform(rs)\n",
    "pa"
   ]
  },
  {
   "cell_type": "code",
   "execution_count": 32,
   "metadata": {},
   "outputs": [
    {
     "name": "stdout",
     "output_type": "stream",
     "text": [
      "[[ 1.7585454  -1.33012851  0.36548803]\n",
      " [-0.98641895  0.65205984 -1.24207521]\n",
      " [ 0.13616693  1.60528851  0.94342211]\n",
      " ..., \n",
      " [-0.017123   -0.20483802  0.7498679 ]\n",
      " [-0.1908321  -0.36062462  1.3880525 ]\n",
      " [-1.25424421 -0.43581884 -0.71291518]]\n"
     ]
    }
   ],
   "source": [
    "from sklearn.feature_selection import SelectKBest\n",
    "from sklearn.feature_selection import f_regression\n",
    "kbest = SelectKBest(score_func=f_regression, k=3)\n",
    "k = kbest.fit_transform(pa,y_train)\n",
    "print(k)"
   ]
  },
  {
   "cell_type": "code",
   "execution_count": 35,
   "metadata": {
    "collapsed": true
   },
   "outputs": [],
   "source": [
    "from sklearn.model_selection import cross_val_score\n",
    "m = cross_val_score(knn, k, y_train, cv=kfold, scoring='neg_mean_squared_error')"
   ]
  },
  {
   "cell_type": "code",
   "execution_count": 36,
   "metadata": {},
   "outputs": [
    {
     "data": {
      "text/plain": [
       "-9.5909752230436496"
      ]
     },
     "execution_count": 36,
     "metadata": {},
     "output_type": "execute_result"
    }
   ],
   "source": [
    "m.mean()"
   ]
  },
  {
   "cell_type": "code",
   "execution_count": null,
   "metadata": {
    "collapsed": true
   },
   "outputs": [],
   "source": []
  }
 ],
 "metadata": {
  "kernelspec": {
   "display_name": "Python 3",
   "language": "python",
   "name": "python3"
  },
  "language_info": {
   "codemirror_mode": {
    "name": "ipython",
    "version": 3
   },
   "file_extension": ".py",
   "mimetype": "text/x-python",
   "name": "python",
   "nbconvert_exporter": "python",
   "pygments_lexer": "ipython3",
   "version": "3.6.3"
  }
 },
 "nbformat": 4,
 "nbformat_minor": 2
}
