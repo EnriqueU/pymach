{
 "cells": [
  {
   "cell_type": "code",
   "execution_count": 10,
   "metadata": {},
   "outputs": [],
   "source": [
    "from sklearn.discriminant_analysis import LinearDiscriminantAnalysis\n",
    "from sklearn.svm import SVC"
   ]
  },
  {
   "cell_type": "code",
   "execution_count": 11,
   "metadata": {
    "collapsed": true
   },
   "outputs": [],
   "source": [
    "models = []\n",
    "models.append(('LinearDiscriminantAnalysis', LinearDiscriminantAnalysis()))\n",
    "models.append(('SVC', SVC(random_state=1)))"
   ]
  },
  {
   "cell_type": "code",
   "execution_count": 12,
   "metadata": {},
   "outputs": [
    {
     "data": {
      "text/plain": [
       "FeatureUnion(n_jobs=1,\n",
       "       transformer_list=[('scaler', StandardScaler(copy=True, with_mean=True, with_std=True))],\n",
       "       transformer_weights=None)"
      ]
     },
     "execution_count": 12,
     "metadata": {},
     "output_type": "execute_result"
    }
   ],
   "source": [
    "from sklearn.pipeline import Pipeline, FeatureUnion\n",
    "from sklearn.preprocessing import MinMaxScaler, Normalizer,\\\n",
    "StandardScaler, RobustScaler, LabelEncoder, FunctionTransformer\n",
    "\n",
    "transformers = []\n",
    "scaler = StandardScaler()\n",
    "transformers.append(('scaler', scaler))\n",
    "t1 = FeatureUnion(transformers)\n",
    "t1"
   ]
  },
  {
   "cell_type": "code",
   "execution_count": 13,
   "metadata": {},
   "outputs": [
    {
     "data": {
      "text/plain": [
       "FeatureUnion(n_jobs=1,\n",
       "       transformer_list=[('pca', PCA(copy=True, iterated_power='auto', n_components=2, random_state=None,\n",
       "  svd_solver='randomized', tol=0.0, whiten=True))],\n",
       "       transformer_weights=None)"
      ]
     },
     "execution_count": 13,
     "metadata": {},
     "output_type": "execute_result"
    }
   ],
   "source": [
    "from sklearn.decomposition import PCA\n",
    "transformers = []\n",
    "pca = PCA(n_components=2, svd_solver='randomized', whiten=True)\n",
    "transformers.append(('pca', pca))\n",
    "t2 = FeatureUnion(transformers)\n",
    "t2"
   ]
  },
  {
   "cell_type": "code",
   "execution_count": 14,
   "metadata": {
    "collapsed": true
   },
   "outputs": [],
   "source": [
    "pipelines = []\n",
    "for m in models:\n",
    "    pipelines.append((m[0],\n",
    "        Pipeline([\n",
    "            ('preparer', t1),\n",
    "            ('selector', t2),\n",
    "            m,\n",
    "        ])\n",
    "    ))"
   ]
  },
  {
   "cell_type": "code",
   "execution_count": 30,
   "metadata": {},
   "outputs": [
    {
     "data": {
      "text/plain": [
       "[('LinearDiscriminantAnalysis', Pipeline(memory=None,\n",
       "       steps=[('preparer', FeatureUnion(n_jobs=1,\n",
       "         transformer_list=[('scaler', StandardScaler(copy=True, with_mean=True, with_std=True))],\n",
       "         transformer_weights=None)), ('selector', FeatureUnion(n_jobs=1,\n",
       "         transformer_list=[('pca', PCA(copy=True, iterated_power='auto', n_components=2, ran...None, priors=None, shrinkage=None,\n",
       "                solver='svd', store_covariance=False, tol=0.0001))])),\n",
       " ('SVC', Pipeline(memory=None,\n",
       "       steps=[('preparer', FeatureUnion(n_jobs=1,\n",
       "         transformer_list=[('scaler', StandardScaler(copy=True, with_mean=True, with_std=True))],\n",
       "         transformer_weights=None)), ('selector', FeatureUnion(n_jobs=1,\n",
       "         transformer_list=[('pca', PCA(copy=True, iterated_power='auto', n_components=2, ran...bf',\n",
       "    max_iter=-1, probability=False, random_state=1, shrinking=True,\n",
       "    tol=0.001, verbose=False))]))]"
      ]
     },
     "execution_count": 30,
     "metadata": {},
     "output_type": "execute_result"
    }
   ],
   "source": [
    "pipelines"
   ]
  },
  {
   "cell_type": "code",
   "execution_count": 31,
   "metadata": {},
   "outputs": [
    {
     "data": {
      "text/plain": [
       "KFold(n_splits=10, random_state=7, shuffle=False)"
      ]
     },
     "execution_count": 31,
     "metadata": {},
     "output_type": "execute_result"
    }
   ],
   "source": [
    "from sklearn.model_selection import KFold\n",
    "kfold = KFold(n_splits=10, random_state=7)\n",
    "kfold"
   ]
  },
  {
   "cell_type": "code",
   "execution_count": 32,
   "metadata": {
    "collapsed": true
   },
   "outputs": [],
   "source": [
    "from sklearn.model_selection import train_test_split\n",
    "from sklearn import datasets, linear_model\n",
    "x = datasets.load_iris().data\n",
    "y = datasets.load_iris()\n",
    "y = y.target"
   ]
  },
  {
   "cell_type": "code",
   "execution_count": 33,
   "metadata": {
    "collapsed": true
   },
   "outputs": [],
   "source": [
    "X_train, X_test, y_train, y_test = train_test_split(x, y, test_size=0.2)"
   ]
  },
  {
   "cell_type": "code",
   "execution_count": 34,
   "metadata": {},
   "outputs": [
    {
     "data": {
      "text/plain": [
       "array([ 1.        ,  1.        ,  0.66666667,  0.91666667,  1.        ,\n",
       "        1.        ,  0.91666667,  0.91666667,  1.        ,  0.83333333])"
      ]
     },
     "execution_count": 34,
     "metadata": {},
     "output_type": "execute_result"
    }
   ],
   "source": [
    "from sklearn.model_selection import cross_val_score\n",
    "for name, model in pipelines:\n",
    "    cv_results = cross_val_score(model, X_train, y_train, cv=kfold, scoring='accuracy')\n",
    "cv_results"
   ]
  },
  {
   "cell_type": "code",
   "execution_count": 35,
   "metadata": {},
   "outputs": [
    {
     "name": "stdout",
     "output_type": "stream",
     "text": [
      "0.925\n",
      "0.101721296798\n"
     ]
    }
   ],
   "source": [
    "print(cv_results.mean())\n",
    "print(cv_results.std())"
   ]
  }
 ],
 "metadata": {
  "kernelspec": {
   "display_name": "Python 3",
   "language": "python",
   "name": "python3"
  },
  "language_info": {
   "codemirror_mode": {
    "name": "ipython",
    "version": 3
   },
   "file_extension": ".py",
   "mimetype": "text/x-python",
   "name": "python",
   "nbconvert_exporter": "python",
   "pygments_lexer": "ipython3",
   "version": "3.6.3"
  }
 },
 "nbformat": 4,
 "nbformat_minor": 2
}
